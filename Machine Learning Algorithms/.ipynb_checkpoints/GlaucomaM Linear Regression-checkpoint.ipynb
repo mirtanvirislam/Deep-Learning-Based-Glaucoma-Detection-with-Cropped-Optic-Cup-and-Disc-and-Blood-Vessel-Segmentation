{
 "cells": [
  {
   "cell_type": "code",
   "execution_count": 64,
   "metadata": {
    "ExecuteTime": {
     "end_time": "2020-04-01T05:09:54.436533Z",
     "start_time": "2020-04-01T05:09:54.429553Z"
    }
   },
   "outputs": [],
   "source": [
    "import pandas as pd\n",
    "from sklearn.linear_model import LinearRegression\n",
    "from sklearn.model_selection import train_test_split\n",
    "from sklearn.metrics import confusion_matrix\n",
    "import seaborn as sn\n",
    "\n",
    "%matplotlib inline"
   ]
  },
  {
   "cell_type": "code",
   "execution_count": 65,
   "metadata": {
    "ExecuteTime": {
     "end_time": "2020-04-01T05:09:55.300239Z",
     "start_time": "2020-04-01T05:09:55.284192Z"
    }
   },
   "outputs": [],
   "source": [
    "glaucoma_dataset = pd.read_csv('Datasets/GlaucomaM_with_labels.csv')"
   ]
  },
  {
   "cell_type": "code",
   "execution_count": 66,
   "metadata": {
    "ExecuteTime": {
     "end_time": "2020-04-01T05:09:55.720626Z",
     "start_time": "2020-04-01T05:09:55.715639Z"
    }
   },
   "outputs": [],
   "source": [
    "features = list(glaucoma_dataset.columns)[:-1]"
   ]
  },
  {
   "cell_type": "code",
   "execution_count": 67,
   "metadata": {
    "ExecuteTime": {
     "end_time": "2020-04-01T05:09:56.177344Z",
     "start_time": "2020-04-01T05:09:56.172356Z"
    }
   },
   "outputs": [],
   "source": [
    "labels = glaucoma_dataset['Class']\n",
    "labels = map(lambda x: 0 if x=='glaucoma' else 1, y )\n",
    "labels = list(y)"
   ]
  },
  {
   "cell_type": "code",
   "execution_count": 95,
   "metadata": {
    "ExecuteTime": {
     "end_time": "2020-04-01T06:03:51.288774Z",
     "start_time": "2020-04-01T06:03:51.267830Z"
    }
   },
   "outputs": [
    {
     "name": "stdout",
     "output_type": "stream",
     "text": [
      "X_train shape: (137, 62)\n",
      "y_train shape: (137,)\n",
      "X_val shape: (29, 62)\n",
      "y_val shape: (29,)\n",
      "X_test shape: (30, 62)\n",
      "y_test shape: (30,)\n"
     ]
    }
   ],
   "source": [
    "# Train-validation-test split 70%-15%-15%\n",
    "\n",
    "# Split into Train - Validation&Test\n",
    "X_train, X_val_test, y_train, y_val_test = train_test_split(glaucoma_dataset[features], labels, random_state=0, train_size=0.7, shuffle=True)\n",
    "\n",
    "# Split Validation&Test into Validation and Test\n",
    "X_val, X_test, y_val, y_test = train_test_split(X_val_test, y_val_test, random_state=0, train_size=0.5, shuffle=True)\n",
    "\n",
    "# Convert dataframe to np array\n",
    "y_train = np.array(y_train).reshape(-1)\n",
    "y_val = np.array(y_val).reshape(-1)\n",
    "y_test = np.array(y_test).reshape(-1)\n",
    "\n",
    "# Shape of train-validation-test data\n",
    "print(\"X_train shape: {}\".format(X_train.shape))\n",
    "print(\"y_train shape: {}\".format(y_train.shape))\n",
    "print(\"X_val shape: {}\".format(X_val.shape))\n",
    "print(\"y_val shape: {}\".format(y_val.shape))\n",
    "print(\"X_test shape: {}\".format(X_test.shape))\n",
    "print(\"y_test shape: {}\".format(y_test.shape))"
   ]
  },
  {
   "cell_type": "code",
   "execution_count": 102,
   "metadata": {
    "ExecuteTime": {
     "end_time": "2020-04-01T06:06:18.722351Z",
     "start_time": "2020-04-01T06:06:18.692432Z"
    }
   },
   "outputs": [
    {
     "data": {
      "text/html": [
       "<div>\n",
       "<style scoped>\n",
       "    .dataframe tbody tr th:only-of-type {\n",
       "        vertical-align: middle;\n",
       "    }\n",
       "\n",
       "    .dataframe tbody tr th {\n",
       "        vertical-align: top;\n",
       "    }\n",
       "\n",
       "    .dataframe thead th {\n",
       "        text-align: right;\n",
       "    }\n",
       "</style>\n",
       "<table border=\"1\" class=\"dataframe\">\n",
       "  <thead>\n",
       "    <tr style=\"text-align: right;\">\n",
       "      <th></th>\n",
       "      <th>Train set score</th>\n",
       "      <th>Validation set score</th>\n",
       "    </tr>\n",
       "  </thead>\n",
       "  <tbody>\n",
       "    <tr>\n",
       "      <th>0</th>\n",
       "      <td>0.642336</td>\n",
       "      <td>0.586207</td>\n",
       "    </tr>\n",
       "  </tbody>\n",
       "</table>\n",
       "</div>"
      ],
      "text/plain": [
       "   Train set score  Validation set score\n",
       "0         0.642336              0.586207"
      ]
     },
     "execution_count": 102,
     "metadata": {},
     "output_type": "execute_result"
    }
   ],
   "source": [
    "trails = []\n",
    "\n",
    "# Initializing Linear Regression\n",
    "lr = LinearRegression()\n",
    "\n",
    "# Fit to training data\n",
    "lr.fit(X_train, y_train)\n",
    "\n",
    "# Training set prediction\n",
    "pred_train = list(map(lambda x: 0 if x<1 else 1 , lr.predict(X_train)))\n",
    "train_set_score = np.mean(y_train == pred_train)\n",
    "\n",
    "# Validation set prediction\n",
    "pred_val = list(map(lambda x: 0 if x<1 else 1 , lr.predict(X_val)))\n",
    "val_set_score = np.mean(y_val == pred_val)\n",
    "\n",
    "    \n",
    "trails.append( {'Train set score' : train_set_score,\n",
    "                'Validation set score':val_set_score} )\n",
    "    \n",
    "df = pd.DataFrame(trails)\n",
    "df"
   ]
  },
  {
   "cell_type": "code",
   "execution_count": 103,
   "metadata": {
    "ExecuteTime": {
     "end_time": "2020-04-01T06:06:19.258110Z",
     "start_time": "2020-04-01T06:06:19.242161Z"
    }
   },
   "outputs": [
    {
     "name": "stdout",
     "output_type": "stream",
     "text": [
      "Test set score: 0.733\n"
     ]
    }
   ],
   "source": [
    "# Initializing Logistic Regression\n",
    "lr = LinearRegression()\n",
    "\n",
    "# Fit to training data\n",
    "lr.fit(X_train, y_train)\n",
    "\n",
    "\n",
    "pred_labels = list(map(lambda x: 0 if x<1 else 1 , lr.predict(X_test)))\n",
    "predictions = pd.DataFrame(zip(y_test,pred_labels))\n",
    "predictions.columns = ['Actual label','Predicted label']\n",
    "predictions\n",
    "\n",
    "# Test set prediction\n",
    "print(\"Test set score: {:.3f}\".format(np.mean(y_test == pred_labels)))"
   ]
  },
  {
   "cell_type": "code",
   "execution_count": null,
   "metadata": {},
   "outputs": [],
   "source": []
  }
 ],
 "metadata": {
  "kernelspec": {
   "display_name": "Python 3",
   "language": "python",
   "name": "python3"
  },
  "language_info": {
   "codemirror_mode": {
    "name": "ipython",
    "version": 3
   },
   "file_extension": ".py",
   "mimetype": "text/x-python",
   "name": "python",
   "nbconvert_exporter": "python",
   "pygments_lexer": "ipython3",
   "version": "3.7.6"
  },
  "varInspector": {
   "cols": {
    "lenName": 16,
    "lenType": 16,
    "lenVar": 40
   },
   "kernels_config": {
    "python": {
     "delete_cmd_postfix": "",
     "delete_cmd_prefix": "del ",
     "library": "var_list.py",
     "varRefreshCmd": "print(var_dic_list())"
    },
    "r": {
     "delete_cmd_postfix": ") ",
     "delete_cmd_prefix": "rm(",
     "library": "var_list.r",
     "varRefreshCmd": "cat(var_dic_list()) "
    }
   },
   "types_to_exclude": [
    "module",
    "function",
    "builtin_function_or_method",
    "instance",
    "_Feature"
   ],
   "window_display": false
  }
 },
 "nbformat": 4,
 "nbformat_minor": 4
}
