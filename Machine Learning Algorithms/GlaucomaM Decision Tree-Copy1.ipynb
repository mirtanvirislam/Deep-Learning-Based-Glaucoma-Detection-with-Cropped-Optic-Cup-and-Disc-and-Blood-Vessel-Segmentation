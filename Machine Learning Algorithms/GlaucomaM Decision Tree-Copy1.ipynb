{
 "cells": [
  {
   "cell_type": "code",
   "execution_count": 2,
   "metadata": {
    "ExecuteTime": {
     "end_time": "2020-04-01T05:28:21.676093Z",
     "start_time": "2020-04-01T05:28:21.667118Z"
    }
   },
   "outputs": [],
   "source": [
    "import pandas as pd\n",
    "from sklearn.ensemble import RandomForestClassifier\n",
    "from sklearn.model_selection import train_test_split\n",
    "from sklearn.metrics import confusion_matrix\n",
    "import seaborn as sn\n",
    "\n",
    "%matplotlib inline"
   ]
  },
  {
   "cell_type": "code",
   "execution_count": 3,
   "metadata": {
    "ExecuteTime": {
     "end_time": "2020-04-01T05:28:22.530605Z",
     "start_time": "2020-04-01T05:28:22.515616Z"
    }
   },
   "outputs": [],
   "source": [
    "glaucoma_dataset = pd.read_csv('Datasets/GlaucomaM_with_labels.csv')"
   ]
  },
  {
   "cell_type": "code",
   "execution_count": 4,
   "metadata": {
    "ExecuteTime": {
     "end_time": "2020-04-01T05:28:23.544303Z",
     "start_time": "2020-04-01T05:28:23.540319Z"
    }
   },
   "outputs": [],
   "source": [
    "features = list(glaucoma_dataset.columns)[:-1]"
   ]
  },
  {
   "cell_type": "code",
   "execution_count": 5,
   "metadata": {
    "ExecuteTime": {
     "end_time": "2020-04-01T05:28:25.844114Z",
     "start_time": "2020-04-01T05:28:25.827160Z"
    }
   },
   "outputs": [
    {
     "name": "stdout",
     "output_type": "stream",
     "text": [
      "X_train shape: (137, 62)\n",
      "y_train shape: (137,)\n",
      "X_val shape: (29, 62)\n",
      "y_val shape: (29,)\n",
      "X_test shape: (30, 62)\n",
      "y_test shape: (30,)\n"
     ]
    }
   ],
   "source": [
    "# Train-validation-test split 70%-15%-15%\n",
    "\n",
    "# Split into Train - Validation&Test\n",
    "X_train, X_val_test, y_train, y_val_test = train_test_split(glaucoma_dataset[features], glaucoma_dataset[['Class']], random_state=0, train_size=0.7, shuffle=True)\n",
    "\n",
    "# Split Validation&Test into Validation and Test\n",
    "X_val, X_test, y_val, y_test = train_test_split(X_val_test, y_val_test, random_state=0, train_size=0.5, shuffle=True)\n",
    "\n",
    "# Convert dataframe to np array\n",
    "y_train = np.array(y_train).reshape(-1)\n",
    "y_val = np.array(y_val).reshape(-1)\n",
    "y_test = np.array(y_test).reshape(-1)\n",
    "\n",
    "# Shape of train-validation-test data\n",
    "print(\"X_train shape: {}\".format(X_train.shape))\n",
    "print(\"y_train shape: {}\".format(y_train.shape))\n",
    "print(\"X_val shape: {}\".format(X_val.shape))\n",
    "print(\"y_val shape: {}\".format(y_val.shape))\n",
    "print(\"X_test shape: {}\".format(X_test.shape))\n",
    "print(\"y_test shape: {}\".format(y_test.shape))"
   ]
  },
  {
   "cell_type": "code",
   "execution_count": 7,
   "metadata": {
    "ExecuteTime": {
     "end_time": "2020-04-01T05:30:44.131643Z",
     "start_time": "2020-04-01T05:30:44.050858Z"
    }
   },
   "outputs": [
    {
     "data": {
      "text/html": [
       "<div>\n",
       "<style scoped>\n",
       "    .dataframe tbody tr th:only-of-type {\n",
       "        vertical-align: middle;\n",
       "    }\n",
       "\n",
       "    .dataframe tbody tr th {\n",
       "        vertical-align: top;\n",
       "    }\n",
       "\n",
       "    .dataframe thead th {\n",
       "        text-align: right;\n",
       "    }\n",
       "</style>\n",
       "<table border=\"1\" class=\"dataframe\">\n",
       "  <thead>\n",
       "    <tr style=\"text-align: right;\">\n",
       "      <th></th>\n",
       "      <th>max_depth</th>\n",
       "      <th>Train set score</th>\n",
       "      <th>Validation set score</th>\n",
       "    </tr>\n",
       "  </thead>\n",
       "  <tbody>\n",
       "    <tr>\n",
       "      <th>0</th>\n",
       "      <td>1</td>\n",
       "      <td>0.832</td>\n",
       "      <td>0.793</td>\n",
       "    </tr>\n",
       "    <tr>\n",
       "      <th>1</th>\n",
       "      <td>2</td>\n",
       "      <td>0.861</td>\n",
       "      <td>0.828</td>\n",
       "    </tr>\n",
       "    <tr>\n",
       "      <th>2</th>\n",
       "      <td>3</td>\n",
       "      <td>0.920</td>\n",
       "      <td>0.793</td>\n",
       "    </tr>\n",
       "    <tr>\n",
       "      <th>3</th>\n",
       "      <td>5</td>\n",
       "      <td>0.985</td>\n",
       "      <td>0.793</td>\n",
       "    </tr>\n",
       "    <tr>\n",
       "      <th>4</th>\n",
       "      <td>10</td>\n",
       "      <td>1.000</td>\n",
       "      <td>0.793</td>\n",
       "    </tr>\n",
       "    <tr>\n",
       "      <th>5</th>\n",
       "      <td>15</td>\n",
       "      <td>1.000</td>\n",
       "      <td>0.793</td>\n",
       "    </tr>\n",
       "    <tr>\n",
       "      <th>6</th>\n",
       "      <td>20</td>\n",
       "      <td>1.000</td>\n",
       "      <td>0.793</td>\n",
       "    </tr>\n",
       "    <tr>\n",
       "      <th>7</th>\n",
       "      <td>30</td>\n",
       "      <td>1.000</td>\n",
       "      <td>0.793</td>\n",
       "    </tr>\n",
       "  </tbody>\n",
       "</table>\n",
       "</div>"
      ],
      "text/plain": [
       "   max_depth  Train set score  Validation set score\n",
       "0          1            0.832                 0.793\n",
       "1          2            0.861                 0.828\n",
       "2          3            0.920                 0.793\n",
       "3          5            0.985                 0.793\n",
       "4         10            1.000                 0.793\n",
       "5         15            1.000                 0.793\n",
       "6         20            1.000                 0.793\n",
       "7         30            1.000                 0.793"
      ]
     },
     "execution_count": 7,
     "metadata": {},
     "output_type": "execute_result"
    }
   ],
   "source": [
    "max_depth_param = [1,2,3,5,10,15,20,30]\n",
    "trails = []\n",
    "\n",
    "for max_depth in max_depth_param:\n",
    "    \n",
    "    # Initializing Logistic Regression\n",
    "    tree = DecisionTreeClassifier(max_depth = max_depth, random_state=0)\n",
    "\n",
    "    # Fit to training data\n",
    "    tree.fit(X_train, y_train)\n",
    "\n",
    "    # Training set prediction\n",
    "    train_set_score = round(tree.score(X_train, y_train), 3)\n",
    "\n",
    "    # Validation set prediction\n",
    "    val_set_score = round(tree.score(X_val, y_val), 3)\n",
    "    \n",
    "    trails.append( {'max_depth' : max_depth,\n",
    "                    'Train set score' : train_set_score,\n",
    "                    'Validation set score':val_set_score} )\n",
    "    \n",
    "df = pd.DataFrame(trails)\n",
    "df"
   ]
  },
  {
   "cell_type": "code",
   "execution_count": 9,
   "metadata": {
    "ExecuteTime": {
     "end_time": "2020-04-01T05:32:06.878651Z",
     "start_time": "2020-04-01T05:32:06.867680Z"
    }
   },
   "outputs": [
    {
     "name": "stdout",
     "output_type": "stream",
     "text": [
      "Test set score: 0.800\n"
     ]
    }
   ],
   "source": [
    "max_depth = 2\n",
    "\n",
    "# Initializing Logistic Regression\n",
    "tree = DecisionTreeClassifier(max_depth = max_depth)\n",
    "\n",
    "# Fit to training data\n",
    "tree.fit(X_train, y_train)\n",
    "\n",
    "# Test set prediction\n",
    "print(\"Test set score: {:.3f}\".format(tree.score(X_test, y_test)))"
   ]
  },
  {
   "cell_type": "code",
   "execution_count": 17,
   "metadata": {
    "ExecuteTime": {
     "end_time": "2020-04-01T05:36:24.423414Z",
     "start_time": "2020-04-01T05:36:24.187365Z"
    }
   },
   "outputs": [
    {
     "data": {
      "text/plain": [
       "[[Text(0, 0.5, 'Glaucoma'), Text(0, 1.5, 'Normal')],\n",
       " Text(33.0, 0.5, 'Actual label'),\n",
       " [Text(0.5, 0, 'Glaucoma'), Text(1.5, 0, 'Normal')],\n",
       " Text(0.5, 15.0, 'Predicted label')]"
      ]
     },
     "execution_count": 17,
     "metadata": {},
     "output_type": "execute_result"
    },
    {
     "data": {
      "image/png": "[encoded data removed]",
      "text/plain": [
       "<Figure size 432x288 with 2 Axes>"
      ]
     },
     "metadata": {
      "needs_background": "light"
     },
     "output_type": "display_data"
    }
   ],
   "source": [
    "y_test_pred = tree.predict(X_test)\n",
    "\n",
    "# Confusion Matrix\n",
    "confusion_matrix_test = confusion_matrix(y_test, y_test_pred, labels = None, sample_weight = None, normalize = None)\n",
    "\n",
    "# Confusion Matrix heatmap (0 : glaucoma, 1 : normal)\n",
    "heatmap_test = sn.heatmap(confusion_matrix_test, annot=True)\n",
    "heatmap_test.set(xlabel='Predicted label', ylabel='Actual label', xticklabels=['Glaucoma', 'Normal'], yticklabels=['Glaucoma', 'Normal'])"
   ]
  },
  {
   "cell_type": "code",
   "execution_count": null,
   "metadata": {},
   "outputs": [],
   "source": []
  }
 ],
 "metadata": {
  "kernelspec": {
   "display_name": "Python 3",
   "language": "python",
   "name": "python3"
  },
  "language_info": {
   "codemirror_mode": {
    "name": "ipython",
    "version": 3
   },
   "file_extension": ".py",
   "mimetype": "text/x-python",
   "name": "python",
   "nbconvert_exporter": "python",
   "pygments_lexer": "ipython3",
   "version": "3.7.6"
  },
  "varInspector": {
   "cols": {
    "lenName": 16,
    "lenType": 16,
    "lenVar": 40
   },
   "kernels_config": {
    "python": {
     "delete_cmd_postfix": "",
     "delete_cmd_prefix": "del ",
     "library": "var_list.py",
     "varRefreshCmd": "print(var_dic_list())"
    },
    "r": {
     "delete_cmd_postfix": ") ",
     "delete_cmd_prefix": "rm(",
     "library": "var_list.r",
     "varRefreshCmd": "cat(var_dic_list()) "
    }
   },
   "types_to_exclude": [
    "module",
    "function",
    "builtin_function_or_method",
    "instance",
    "_Feature"
   ],
   "window_display": false
  }
 },
 "nbformat": 4,
 "nbformat_minor": 4
}
