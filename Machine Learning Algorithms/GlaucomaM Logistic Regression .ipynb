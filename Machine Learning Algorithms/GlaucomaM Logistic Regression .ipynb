{
 "cells": [
  {
   "cell_type": "code",
   "execution_count": 16,
   "metadata": {
    "ExecuteTime": {
     "end_time": "2020-03-31T18:19:40.424962Z",
     "start_time": "2020-03-31T18:19:40.418007Z"
    }
   },
   "outputs": [],
   "source": [
    "import pandas as pd\n",
    "from sklearn.linear_model import LogisticRegression\n",
    "from sklearn.model_selection import train_test_split\n",
    "from sklearn.metrics import confusion_matrix\n",
    "import seaborn as sn\n",
    "\n",
    "%matplotlib inline"
   ]
  },
  {
   "cell_type": "code",
   "execution_count": 2,
   "metadata": {
    "ExecuteTime": {
     "end_time": "2020-03-31T18:09:34.506629Z",
     "start_time": "2020-03-31T18:09:34.490633Z"
    }
   },
   "outputs": [],
   "source": [
    "glaucoma_dataset = pd.read_csv('Datasets/GlaucomaM_with_labels.csv')"
   ]
  },
  {
   "cell_type": "code",
   "execution_count": 9,
   "metadata": {
    "ExecuteTime": {
     "end_time": "2020-03-31T18:12:07.381640Z",
     "start_time": "2020-03-31T18:12:07.377653Z"
    }
   },
   "outputs": [],
   "source": [
    "features = list(glaucoma_dataset.columns)[:-1]"
   ]
  },
  {
   "cell_type": "code",
   "execution_count": 49,
   "metadata": {
    "ExecuteTime": {
     "end_time": "2020-03-31T18:28:05.467314Z",
     "start_time": "2020-03-31T18:28:05.448368Z"
    }
   },
   "outputs": [
    {
     "name": "stdout",
     "output_type": "stream",
     "text": [
      "X_train shape: (137, 62)\n",
      "y_train shape: (137,)\n",
      "X_val shape: (29, 62)\n",
      "y_val shape: (29,)\n",
      "X_test shape: (30, 62)\n",
      "y_test shape: (30,)\n"
     ]
    }
   ],
   "source": [
    "# Train-validation-test split 70%-15%-15%\n",
    "\n",
    "# Split into Train - Validation&Test\n",
    "X_train, X_val_test, y_train, y_val_test = train_test_split(glaucoma_dataset[features], glaucoma_dataset[['Class']], random_state=0, train_size=0.7, shuffle=True)\n",
    "\n",
    "# Split Validation&Test into Validation and Test\n",
    "X_val, X_test, y_val, y_test = train_test_split(X_val_test, y_val_test, random_state=0, train_size=0.5, shuffle=True)\n",
    "\n",
    "# Convert dataframe to np array\n",
    "y_train = np.array(y_train).reshape(-1)\n",
    "y_val = np.array(y_val).reshape(-1)\n",
    "y_test = np.array(y_test).reshape(-1)\n",
    "\n",
    "# Shape of train-validation-test data\n",
    "print(\"X_train shape: {}\".format(X_train.shape))\n",
    "print(\"y_train shape: {}\".format(y_train.shape))\n",
    "print(\"X_val shape: {}\".format(X_val.shape))\n",
    "print(\"y_val shape: {}\".format(y_val.shape))\n",
    "print(\"X_test shape: {}\".format(X_test.shape))\n",
    "print(\"y_test shape: {}\".format(y_test.shape))"
   ]
  },
  {
   "cell_type": "code",
   "execution_count": 50,
   "metadata": {
    "ExecuteTime": {
     "end_time": "2020-03-31T18:28:05.949304Z",
     "start_time": "2020-03-31T18:28:05.784744Z"
    }
   },
   "outputs": [
    {
     "data": {
      "text/html": [
       "<div>\n",
       "<style scoped>\n",
       "    .dataframe tbody tr th:only-of-type {\n",
       "        vertical-align: middle;\n",
       "    }\n",
       "\n",
       "    .dataframe tbody tr th {\n",
       "        vertical-align: top;\n",
       "    }\n",
       "\n",
       "    .dataframe thead th {\n",
       "        text-align: right;\n",
       "    }\n",
       "</style>\n",
       "<table border=\"1\" class=\"dataframe\">\n",
       "  <thead>\n",
       "    <tr style=\"text-align: right;\">\n",
       "      <th></th>\n",
       "      <th>C</th>\n",
       "      <th>max_iter</th>\n",
       "      <th>Train set score</th>\n",
       "      <th>Validation set score</th>\n",
       "    </tr>\n",
       "  </thead>\n",
       "  <tbody>\n",
       "    <tr>\n",
       "      <th>0</th>\n",
       "      <td>1</td>\n",
       "      <td>100</td>\n",
       "      <td>0.861</td>\n",
       "      <td>0.862</td>\n",
       "    </tr>\n",
       "    <tr>\n",
       "      <th>1</th>\n",
       "      <td>2</td>\n",
       "      <td>100</td>\n",
       "      <td>0.869</td>\n",
       "      <td>0.862</td>\n",
       "    </tr>\n",
       "    <tr>\n",
       "      <th>2</th>\n",
       "      <td>3</td>\n",
       "      <td>1000</td>\n",
       "      <td>0.876</td>\n",
       "      <td>0.862</td>\n",
       "    </tr>\n",
       "    <tr>\n",
       "      <th>3</th>\n",
       "      <td>5</td>\n",
       "      <td>1000</td>\n",
       "      <td>0.891</td>\n",
       "      <td>0.897</td>\n",
       "    </tr>\n",
       "    <tr>\n",
       "      <th>4</th>\n",
       "      <td>10</td>\n",
       "      <td>10000</td>\n",
       "      <td>0.891</td>\n",
       "      <td>0.897</td>\n",
       "    </tr>\n",
       "    <tr>\n",
       "      <th>5</th>\n",
       "      <td>15</td>\n",
       "      <td>10000</td>\n",
       "      <td>0.898</td>\n",
       "      <td>0.897</td>\n",
       "    </tr>\n",
       "    <tr>\n",
       "      <th>6</th>\n",
       "      <td>20</td>\n",
       "      <td>10000</td>\n",
       "      <td>0.898</td>\n",
       "      <td>0.897</td>\n",
       "    </tr>\n",
       "    <tr>\n",
       "      <th>7</th>\n",
       "      <td>30</td>\n",
       "      <td>10000</td>\n",
       "      <td>0.905</td>\n",
       "      <td>0.897</td>\n",
       "    </tr>\n",
       "  </tbody>\n",
       "</table>\n",
       "</div>"
      ],
      "text/plain": [
       "    C  max_iter  Train set score  Validation set score\n",
       "0   1       100            0.861                 0.862\n",
       "1   2       100            0.869                 0.862\n",
       "2   3      1000            0.876                 0.862\n",
       "3   5      1000            0.891                 0.897\n",
       "4  10     10000            0.891                 0.897\n",
       "5  15     10000            0.898                 0.897\n",
       "6  20     10000            0.898                 0.897\n",
       "7  30     10000            0.905                 0.897"
      ]
     },
     "execution_count": 50,
     "metadata": {},
     "output_type": "execute_result"
    }
   ],
   "source": [
    "C_params = [1,2,3,5,10,15,20,30]\n",
    "max_iter_params = [100,100,1000,1000,10000,10000,10000,10000]\n",
    "trails = []\n",
    "\n",
    "for C,max_iter in zip(C_params, max_iter_params):\n",
    "    \n",
    "    # Initializing Logistic Regression\n",
    "    logreg = LogisticRegression(C = C , max_iter = max_iter)\n",
    "\n",
    "    # Fit to training data\n",
    "    logreg.fit(X_train, y_train)\n",
    "\n",
    "    # Training set prediction\n",
    "    train_set_score = round(logreg.score(X_train, y_train), 3)\n",
    "\n",
    "    # Validation set prediction\n",
    "    val_set_score = round(logreg.score(X_val, y_val), 3)\n",
    "    \n",
    "    trails.append( {'C' : C,\n",
    "                    'max_iter' : max_iter,\n",
    "                    'Train set score' : train_set_score,\n",
    "                    'Validation set score':val_set_score} )\n",
    "    \n",
    "df = pd.DataFrame(trails)\n",
    "df"
   ]
  },
  {
   "cell_type": "code",
   "execution_count": 55,
   "metadata": {
    "ExecuteTime": {
     "end_time": "2020-03-31T18:30:31.737506Z",
     "start_time": "2020-03-31T18:30:31.712549Z"
    }
   },
   "outputs": [
    {
     "name": "stdout",
     "output_type": "stream",
     "text": [
      "Test set score: 0.833\n"
     ]
    }
   ],
   "source": [
    "C = 5\n",
    "max_iter = 10000\n",
    "\n",
    "# Initializing Logistic Regression\n",
    "logreg = LogisticRegression(C = C , max_iter = max_iter)\n",
    "\n",
    "# Fit to training data\n",
    "logreg.fit(X_train, y_train)\n",
    "\n",
    "# Test set prediction\n",
    "print(\"Test set score: {:.3f}\".format(logreg.score(X_test, y_test)))"
   ]
  },
  {
   "cell_type": "code",
   "execution_count": 67,
   "metadata": {
    "ExecuteTime": {
     "end_time": "2020-03-31T18:35:08.019245Z",
     "start_time": "2020-03-31T18:35:07.835050Z"
    }
   },
   "outputs": [
    {
     "data": {
      "text/plain": [
       "[Text(33.0, 0.5, 'Actual label'), Text(0.5, 15.0, 'Predicted label')]"
      ]
     },
     "execution_count": 67,
     "metadata": {},
     "output_type": "execute_result"
    },
    {
     "data": {
      "image/png": "[encoded data removed]",
      "text/plain": [
       "<Figure size 432x288 with 2 Axes>"
      ]
     },
     "metadata": {
      "needs_background": "light"
     },
     "output_type": "display_data"
    }
   ],
   "source": [
    "y_test_pred = logreg.predict(X_test)\n",
    "\n",
    "# Confusion Matrix\n",
    "confusion_matrix_test = confusion_matrix(y_test, y_test_pred, labels = None, sample_weight = None, normalize = None)\n",
    "\n",
    "# Confusion Matrix heatmap (0 : glaucoma, 1 : normal)\n",
    "heatmap_test = sn.heatmap(confusion_matrix_test, annot=True)\n",
    "heatmap_test.set(xlabel='Predicted label', ylabel='Actual label')"
   ]
  },
  {
   "cell_type": "code",
   "execution_count": null,
   "metadata": {},
   "outputs": [],
   "source": []
  }
 ],
 "metadata": {
  "kernelspec": {
   "display_name": "Python 3",
   "language": "python",
   "name": "python3"
  },
  "language_info": {
   "codemirror_mode": {
    "name": "ipython",
    "version": 3
   },
   "file_extension": ".py",
   "mimetype": "text/x-python",
   "name": "python",
   "nbconvert_exporter": "python",
   "pygments_lexer": "ipython3",
   "version": "3.7.6"
  },
  "varInspector": {
   "cols": {
    "lenName": 16,
    "lenType": 16,
    "lenVar": 40
   },
   "kernels_config": {
    "python": {
     "delete_cmd_postfix": "",
     "delete_cmd_prefix": "del ",
     "library": "var_list.py",
     "varRefreshCmd": "print(var_dic_list())"
    },
    "r": {
     "delete_cmd_postfix": ") ",
     "delete_cmd_prefix": "rm(",
     "library": "var_list.r",
     "varRefreshCmd": "cat(var_dic_list()) "
    }
   },
   "types_to_exclude": [
    "module",
    "function",
    "builtin_function_or_method",
    "instance",
    "_Feature"
   ],
   "window_display": false
  }
 },
 "nbformat": 4,
 "nbformat_minor": 4
}
